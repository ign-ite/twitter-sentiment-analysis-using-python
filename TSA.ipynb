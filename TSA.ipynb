{
 "cells": [
  {
   "cell_type": "code",
   "execution_count": 1,
   "id": "6371dddd-3e7f-4de7-bd1b-e691982a26eb",
   "metadata": {},
   "outputs": [
    {
     "name": "stdout",
     "output_type": "stream",
     "text": [
      "Dataset URL: https://www.kaggle.com/datasets/kazanova/sentiment140\n",
      "License(s): other\n",
      "Downloading sentiment140.zip to C:\\Users\\kumar\\OneDrive - Indian Institute of Information Technology Design and Manufacturing Kurnool (IIITDM KURNOOL), Andhra Pradesh\\Documents\\GitHub\n",
      "\n"
     ]
    },
    {
     "name": "stderr",
     "output_type": "stream",
     "text": [
      "\n",
      "  0%|          | 0.00/80.9M [00:00<?, ?B/s]\n",
      "  1%|1         | 1.00M/80.9M [00:01<01:46, 786kB/s]\n",
      "  2%|2         | 2.00M/80.9M [00:01<00:54, 1.53MB/s]\n",
      "  4%|3         | 3.00M/80.9M [00:01<00:34, 2.36MB/s]\n",
      "  5%|4         | 4.00M/80.9M [00:01<00:27, 2.99MB/s]\n",
      "  6%|6         | 5.00M/80.9M [00:02<00:22, 3.54MB/s]\n",
      "  7%|7         | 6.00M/80.9M [00:02<00:17, 4.44MB/s]\n",
      "  9%|8         | 7.00M/80.9M [00:02<00:14, 5.31MB/s]\n",
      " 10%|9         | 8.00M/80.9M [00:02<00:13, 5.69MB/s]\n",
      " 11%|#1        | 9.00M/80.9M [00:02<00:12, 6.28MB/s]\n",
      " 12%|#2        | 10.0M/80.9M [00:02<00:10, 6.81MB/s]\n",
      " 14%|#3        | 11.0M/80.9M [00:02<00:10, 7.33MB/s]\n",
      " 15%|#4        | 12.0M/80.9M [00:03<00:09, 7.96MB/s]\n",
      " 17%|#7        | 14.0M/80.9M [00:03<00:07, 8.98MB/s]\n",
      " 19%|#8        | 15.0M/80.9M [00:03<00:07, 9.28MB/s]\n",
      " 20%|#9        | 16.0M/80.9M [00:03<00:07, 9.46MB/s]\n",
      " 22%|##2       | 18.0M/80.9M [00:03<00:06, 10.2MB/s]\n",
      " 25%|##4       | 20.0M/80.9M [00:03<00:06, 10.6MB/s]\n",
      " 27%|##7       | 22.0M/80.9M [00:04<00:06, 10.1MB/s]\n",
      " 28%|##8       | 23.0M/80.9M [00:04<00:05, 10.2MB/s]\n",
      " 30%|##9       | 24.0M/80.9M [00:04<00:05, 10.2MB/s]\n",
      " 31%|###       | 25.0M/80.9M [00:04<00:05, 9.85MB/s]\n",
      " 32%|###2      | 26.0M/80.9M [00:04<00:05, 9.63MB/s]\n",
      " 33%|###3      | 27.0M/80.9M [00:04<00:05, 9.64MB/s]\n",
      " 35%|###4      | 28.0M/80.9M [00:04<00:06, 8.80MB/s]\n",
      " 36%|###5      | 29.0M/80.9M [00:04<00:06, 8.35MB/s]\n",
      " 37%|###7      | 30.0M/80.9M [00:04<00:06, 8.40MB/s]\n",
      " 38%|###8      | 31.0M/80.9M [00:05<00:06, 8.53MB/s]\n",
      " 40%|###9      | 32.0M/80.9M [00:05<00:06, 8.27MB/s]\n",
      " 41%|####      | 33.0M/80.9M [00:05<00:06, 8.19MB/s]\n",
      " 42%|####2     | 34.0M/80.9M [00:05<00:06, 8.18MB/s]\n",
      " 43%|####3     | 35.0M/80.9M [00:05<00:05, 8.12MB/s]\n",
      " 44%|####4     | 36.0M/80.9M [00:05<00:05, 8.02MB/s]\n",
      " 46%|####5     | 37.0M/80.9M [00:05<00:05, 8.17MB/s]\n",
      " 47%|####6     | 38.0M/80.9M [00:06<00:05, 7.92MB/s]\n",
      " 48%|####8     | 39.0M/80.9M [00:06<00:05, 8.16MB/s]\n",
      " 49%|####9     | 40.0M/80.9M [00:06<00:05, 8.17MB/s]\n",
      " 51%|#####     | 41.0M/80.9M [00:06<00:05, 7.99MB/s]\n",
      " 52%|#####1    | 42.0M/80.9M [00:06<00:05, 7.58MB/s]\n",
      " 53%|#####3    | 43.0M/80.9M [00:06<00:05, 7.87MB/s]\n",
      " 54%|#####4    | 44.0M/80.9M [00:06<00:04, 7.92MB/s]\n",
      " 56%|#####5    | 45.0M/80.9M [00:06<00:04, 8.10MB/s]\n",
      " 57%|#####6    | 46.0M/80.9M [00:07<00:04, 8.37MB/s]\n",
      " 58%|#####8    | 47.0M/80.9M [00:07<00:05, 6.35MB/s]\n",
      " 59%|#####9    | 48.0M/80.9M [00:07<00:04, 7.04MB/s]\n",
      " 61%|######    | 49.0M/80.9M [00:07<00:04, 7.46MB/s]\n",
      " 62%|######1   | 50.0M/80.9M [00:07<00:04, 7.80MB/s]\n",
      " 63%|######3   | 51.0M/80.9M [00:07<00:03, 8.03MB/s]\n",
      " 65%|######5   | 53.0M/80.9M [00:07<00:03, 9.18MB/s]\n",
      " 68%|######7   | 55.0M/80.9M [00:08<00:02, 10.0MB/s]\n",
      " 69%|######9   | 56.0M/80.9M [00:08<00:02, 10.1MB/s]\n",
      " 70%|#######   | 57.0M/80.9M [00:08<00:02, 9.84MB/s]\n",
      " 73%|#######2  | 59.0M/80.9M [00:08<00:02, 9.77MB/s]\n",
      " 74%|#######4  | 60.0M/80.9M [00:08<00:02, 9.72MB/s]\n",
      " 75%|#######5  | 61.0M/80.9M [00:08<00:02, 9.35MB/s]\n",
      " 77%|#######6  | 62.0M/80.9M [00:08<00:02, 9.23MB/s]\n",
      " 78%|#######7  | 63.0M/80.9M [00:09<00:02, 9.38MB/s]\n",
      " 79%|#######9  | 64.0M/80.9M [00:09<00:01, 9.27MB/s]\n",
      " 80%|########  | 65.0M/80.9M [00:09<00:01, 9.39MB/s]\n",
      " 82%|########1 | 66.0M/80.9M [00:09<00:01, 9.45MB/s]\n",
      " 83%|########2 | 67.0M/80.9M [00:09<00:01, 9.33MB/s]\n",
      " 84%|########4 | 68.0M/80.9M [00:09<00:01, 9.23MB/s]\n",
      " 85%|########5 | 69.0M/80.9M [00:09<00:01, 9.34MB/s]\n",
      " 87%|########6 | 70.0M/80.9M [00:09<00:01, 9.63MB/s]\n",
      " 88%|########7 | 71.0M/80.9M [00:09<00:01, 9.87MB/s]\n",
      " 89%|########8 | 72.0M/80.9M [00:10<00:00, 9.98MB/s]\n",
      " 90%|######### | 73.0M/80.9M [00:10<00:00, 9.89MB/s]\n",
      " 91%|#########1| 74.0M/80.9M [00:10<00:00, 9.74MB/s]\n",
      " 94%|#########3| 76.0M/80.9M [00:10<00:00, 10.6MB/s]\n",
      " 96%|#########6| 78.0M/80.9M [00:10<00:00, 10.5MB/s]\n",
      " 99%|#########8| 80.0M/80.9M [00:10<00:00, 10.6MB/s]\n",
      "100%|##########| 80.9M/80.9M [00:10<00:00, 7.80MB/s]\n"
     ]
    }
   ],
   "source": [
    "!kaggle datasets download -d kazanova/sentiment140"
   ]
  },
  {
   "cell_type": "code",
   "execution_count": 3,
   "id": "1468d68f-f313-4b80-8cfc-be6ea97f4591",
   "metadata": {},
   "outputs": [
    {
     "name": "stdout",
     "output_type": "stream",
     "text": [
      "Extracted\n"
     ]
    }
   ],
   "source": [
    "#extract\n",
    "\n",
    "from zipfile import ZipFile\n",
    "dataset = 'sentiment140.zip'\n",
    "\n",
    "with ZipFile(dataset, 'r') as zip:\n",
    "    zip.extractall()\n",
    "    print('Extracted')"
   ]
  },
  {
   "cell_type": "markdown",
   "id": "b87a65b9-9d58-407d-8eac-2dac1b990c35",
   "metadata": {},
   "source": [
    "Importing the dependencies"
   ]
  },
  {
   "cell_type": "code",
   "execution_count": 6,
   "id": "f2e6dcf3-b699-4657-bddb-d42c2e722c22",
   "metadata": {},
   "outputs": [],
   "source": [
    "import numpy as np\n",
    "import pandas as pd\n",
    "import re\n",
    "from nltk.corpus import stopwords\n",
    "from nltk.stem.porter import PorterStemmer\n",
    "from sklearn.feature_extraction.text import TfidfVectorizer\n",
    "from sklearn.model_selection import train_test_split\n",
    "from sklearn.linear_model import LogisticRegression\n",
    "from sklearn.metrics import accuracy_score"
   ]
  },
  {
   "cell_type": "code",
   "execution_count": 8,
   "id": "f45d7817-8754-4bfc-8987-aeb70d8bc20a",
   "metadata": {},
   "outputs": [
    {
     "name": "stderr",
     "output_type": "stream",
     "text": [
      "[nltk_data] Downloading package stopwords to\n",
      "[nltk_data]     C:\\Users\\kumar\\AppData\\Roaming\\nltk_data...\n",
      "[nltk_data]   Package stopwords is already up-to-date!\n"
     ]
    },
    {
     "data": {
      "text/plain": [
       "True"
      ]
     },
     "execution_count": 8,
     "metadata": {},
     "output_type": "execute_result"
    }
   ],
   "source": [
    "import nltk\n",
    "nltk.download('stopwords')"
   ]
  },
  {
   "cell_type": "code",
   "execution_count": 10,
   "id": "2faf4d3a-362b-426e-bb2d-6ab1b7795665",
   "metadata": {},
   "outputs": [
    {
     "ename": "FileNotFoundError",
     "evalue": "[Errno 2] No such file or directory: 'training.csv'",
     "output_type": "error",
     "traceback": [
      "\u001b[1;31m---------------------------------------------------------------------------\u001b[0m",
      "\u001b[1;31mFileNotFoundError\u001b[0m                         Traceback (most recent call last)",
      "Cell \u001b[1;32mIn[10], line 2\u001b[0m\n\u001b[0;32m      1\u001b[0m \u001b[38;5;66;03m#load\u001b[39;00m\n\u001b[1;32m----> 2\u001b[0m twitter_data \u001b[38;5;241m=\u001b[39m pd\u001b[38;5;241m.\u001b[39mread_csv(\u001b[38;5;124m'\u001b[39m\u001b[38;5;124mtraining.csv\u001b[39m\u001b[38;5;124m'\u001b[39m, encoding\u001b[38;5;241m=\u001b[39m\u001b[38;5;124m'\u001b[39m\u001b[38;5;124mISO-8859-1\u001b[39m\u001b[38;5;124m'\u001b[39m)\n",
      "File \u001b[1;32m~\\anaconda3\\Lib\\site-packages\\pandas\\io\\parsers\\readers.py:948\u001b[0m, in \u001b[0;36mread_csv\u001b[1;34m(filepath_or_buffer, sep, delimiter, header, names, index_col, usecols, dtype, engine, converters, true_values, false_values, skipinitialspace, skiprows, skipfooter, nrows, na_values, keep_default_na, na_filter, verbose, skip_blank_lines, parse_dates, infer_datetime_format, keep_date_col, date_parser, date_format, dayfirst, cache_dates, iterator, chunksize, compression, thousands, decimal, lineterminator, quotechar, quoting, doublequote, escapechar, comment, encoding, encoding_errors, dialect, on_bad_lines, delim_whitespace, low_memory, memory_map, float_precision, storage_options, dtype_backend)\u001b[0m\n\u001b[0;32m    935\u001b[0m kwds_defaults \u001b[38;5;241m=\u001b[39m _refine_defaults_read(\n\u001b[0;32m    936\u001b[0m     dialect,\n\u001b[0;32m    937\u001b[0m     delimiter,\n\u001b[1;32m   (...)\u001b[0m\n\u001b[0;32m    944\u001b[0m     dtype_backend\u001b[38;5;241m=\u001b[39mdtype_backend,\n\u001b[0;32m    945\u001b[0m )\n\u001b[0;32m    946\u001b[0m kwds\u001b[38;5;241m.\u001b[39mupdate(kwds_defaults)\n\u001b[1;32m--> 948\u001b[0m \u001b[38;5;28;01mreturn\u001b[39;00m _read(filepath_or_buffer, kwds)\n",
      "File \u001b[1;32m~\\anaconda3\\Lib\\site-packages\\pandas\\io\\parsers\\readers.py:611\u001b[0m, in \u001b[0;36m_read\u001b[1;34m(filepath_or_buffer, kwds)\u001b[0m\n\u001b[0;32m    608\u001b[0m _validate_names(kwds\u001b[38;5;241m.\u001b[39mget(\u001b[38;5;124m\"\u001b[39m\u001b[38;5;124mnames\u001b[39m\u001b[38;5;124m\"\u001b[39m, \u001b[38;5;28;01mNone\u001b[39;00m))\n\u001b[0;32m    610\u001b[0m \u001b[38;5;66;03m# Create the parser.\u001b[39;00m\n\u001b[1;32m--> 611\u001b[0m parser \u001b[38;5;241m=\u001b[39m TextFileReader(filepath_or_buffer, \u001b[38;5;241m*\u001b[39m\u001b[38;5;241m*\u001b[39mkwds)\n\u001b[0;32m    613\u001b[0m \u001b[38;5;28;01mif\u001b[39;00m chunksize \u001b[38;5;129;01mor\u001b[39;00m iterator:\n\u001b[0;32m    614\u001b[0m     \u001b[38;5;28;01mreturn\u001b[39;00m parser\n",
      "File \u001b[1;32m~\\anaconda3\\Lib\\site-packages\\pandas\\io\\parsers\\readers.py:1448\u001b[0m, in \u001b[0;36mTextFileReader.__init__\u001b[1;34m(self, f, engine, **kwds)\u001b[0m\n\u001b[0;32m   1445\u001b[0m     \u001b[38;5;28mself\u001b[39m\u001b[38;5;241m.\u001b[39moptions[\u001b[38;5;124m\"\u001b[39m\u001b[38;5;124mhas_index_names\u001b[39m\u001b[38;5;124m\"\u001b[39m] \u001b[38;5;241m=\u001b[39m kwds[\u001b[38;5;124m\"\u001b[39m\u001b[38;5;124mhas_index_names\u001b[39m\u001b[38;5;124m\"\u001b[39m]\n\u001b[0;32m   1447\u001b[0m \u001b[38;5;28mself\u001b[39m\u001b[38;5;241m.\u001b[39mhandles: IOHandles \u001b[38;5;241m|\u001b[39m \u001b[38;5;28;01mNone\u001b[39;00m \u001b[38;5;241m=\u001b[39m \u001b[38;5;28;01mNone\u001b[39;00m\n\u001b[1;32m-> 1448\u001b[0m \u001b[38;5;28mself\u001b[39m\u001b[38;5;241m.\u001b[39m_engine \u001b[38;5;241m=\u001b[39m \u001b[38;5;28mself\u001b[39m\u001b[38;5;241m.\u001b[39m_make_engine(f, \u001b[38;5;28mself\u001b[39m\u001b[38;5;241m.\u001b[39mengine)\n",
      "File \u001b[1;32m~\\anaconda3\\Lib\\site-packages\\pandas\\io\\parsers\\readers.py:1705\u001b[0m, in \u001b[0;36mTextFileReader._make_engine\u001b[1;34m(self, f, engine)\u001b[0m\n\u001b[0;32m   1703\u001b[0m     \u001b[38;5;28;01mif\u001b[39;00m \u001b[38;5;124m\"\u001b[39m\u001b[38;5;124mb\u001b[39m\u001b[38;5;124m\"\u001b[39m \u001b[38;5;129;01mnot\u001b[39;00m \u001b[38;5;129;01min\u001b[39;00m mode:\n\u001b[0;32m   1704\u001b[0m         mode \u001b[38;5;241m+\u001b[39m\u001b[38;5;241m=\u001b[39m \u001b[38;5;124m\"\u001b[39m\u001b[38;5;124mb\u001b[39m\u001b[38;5;124m\"\u001b[39m\n\u001b[1;32m-> 1705\u001b[0m \u001b[38;5;28mself\u001b[39m\u001b[38;5;241m.\u001b[39mhandles \u001b[38;5;241m=\u001b[39m get_handle(\n\u001b[0;32m   1706\u001b[0m     f,\n\u001b[0;32m   1707\u001b[0m     mode,\n\u001b[0;32m   1708\u001b[0m     encoding\u001b[38;5;241m=\u001b[39m\u001b[38;5;28mself\u001b[39m\u001b[38;5;241m.\u001b[39moptions\u001b[38;5;241m.\u001b[39mget(\u001b[38;5;124m\"\u001b[39m\u001b[38;5;124mencoding\u001b[39m\u001b[38;5;124m\"\u001b[39m, \u001b[38;5;28;01mNone\u001b[39;00m),\n\u001b[0;32m   1709\u001b[0m     compression\u001b[38;5;241m=\u001b[39m\u001b[38;5;28mself\u001b[39m\u001b[38;5;241m.\u001b[39moptions\u001b[38;5;241m.\u001b[39mget(\u001b[38;5;124m\"\u001b[39m\u001b[38;5;124mcompression\u001b[39m\u001b[38;5;124m\"\u001b[39m, \u001b[38;5;28;01mNone\u001b[39;00m),\n\u001b[0;32m   1710\u001b[0m     memory_map\u001b[38;5;241m=\u001b[39m\u001b[38;5;28mself\u001b[39m\u001b[38;5;241m.\u001b[39moptions\u001b[38;5;241m.\u001b[39mget(\u001b[38;5;124m\"\u001b[39m\u001b[38;5;124mmemory_map\u001b[39m\u001b[38;5;124m\"\u001b[39m, \u001b[38;5;28;01mFalse\u001b[39;00m),\n\u001b[0;32m   1711\u001b[0m     is_text\u001b[38;5;241m=\u001b[39mis_text,\n\u001b[0;32m   1712\u001b[0m     errors\u001b[38;5;241m=\u001b[39m\u001b[38;5;28mself\u001b[39m\u001b[38;5;241m.\u001b[39moptions\u001b[38;5;241m.\u001b[39mget(\u001b[38;5;124m\"\u001b[39m\u001b[38;5;124mencoding_errors\u001b[39m\u001b[38;5;124m\"\u001b[39m, \u001b[38;5;124m\"\u001b[39m\u001b[38;5;124mstrict\u001b[39m\u001b[38;5;124m\"\u001b[39m),\n\u001b[0;32m   1713\u001b[0m     storage_options\u001b[38;5;241m=\u001b[39m\u001b[38;5;28mself\u001b[39m\u001b[38;5;241m.\u001b[39moptions\u001b[38;5;241m.\u001b[39mget(\u001b[38;5;124m\"\u001b[39m\u001b[38;5;124mstorage_options\u001b[39m\u001b[38;5;124m\"\u001b[39m, \u001b[38;5;28;01mNone\u001b[39;00m),\n\u001b[0;32m   1714\u001b[0m )\n\u001b[0;32m   1715\u001b[0m \u001b[38;5;28;01massert\u001b[39;00m \u001b[38;5;28mself\u001b[39m\u001b[38;5;241m.\u001b[39mhandles \u001b[38;5;129;01mis\u001b[39;00m \u001b[38;5;129;01mnot\u001b[39;00m \u001b[38;5;28;01mNone\u001b[39;00m\n\u001b[0;32m   1716\u001b[0m f \u001b[38;5;241m=\u001b[39m \u001b[38;5;28mself\u001b[39m\u001b[38;5;241m.\u001b[39mhandles\u001b[38;5;241m.\u001b[39mhandle\n",
      "File \u001b[1;32m~\\anaconda3\\Lib\\site-packages\\pandas\\io\\common.py:863\u001b[0m, in \u001b[0;36mget_handle\u001b[1;34m(path_or_buf, mode, encoding, compression, memory_map, is_text, errors, storage_options)\u001b[0m\n\u001b[0;32m    858\u001b[0m \u001b[38;5;28;01melif\u001b[39;00m \u001b[38;5;28misinstance\u001b[39m(handle, \u001b[38;5;28mstr\u001b[39m):\n\u001b[0;32m    859\u001b[0m     \u001b[38;5;66;03m# Check whether the filename is to be opened in binary mode.\u001b[39;00m\n\u001b[0;32m    860\u001b[0m     \u001b[38;5;66;03m# Binary mode does not support 'encoding' and 'newline'.\u001b[39;00m\n\u001b[0;32m    861\u001b[0m     \u001b[38;5;28;01mif\u001b[39;00m ioargs\u001b[38;5;241m.\u001b[39mencoding \u001b[38;5;129;01mand\u001b[39;00m \u001b[38;5;124m\"\u001b[39m\u001b[38;5;124mb\u001b[39m\u001b[38;5;124m\"\u001b[39m \u001b[38;5;129;01mnot\u001b[39;00m \u001b[38;5;129;01min\u001b[39;00m ioargs\u001b[38;5;241m.\u001b[39mmode:\n\u001b[0;32m    862\u001b[0m         \u001b[38;5;66;03m# Encoding\u001b[39;00m\n\u001b[1;32m--> 863\u001b[0m         handle \u001b[38;5;241m=\u001b[39m \u001b[38;5;28mopen\u001b[39m(\n\u001b[0;32m    864\u001b[0m             handle,\n\u001b[0;32m    865\u001b[0m             ioargs\u001b[38;5;241m.\u001b[39mmode,\n\u001b[0;32m    866\u001b[0m             encoding\u001b[38;5;241m=\u001b[39mioargs\u001b[38;5;241m.\u001b[39mencoding,\n\u001b[0;32m    867\u001b[0m             errors\u001b[38;5;241m=\u001b[39merrors,\n\u001b[0;32m    868\u001b[0m             newline\u001b[38;5;241m=\u001b[39m\u001b[38;5;124m\"\u001b[39m\u001b[38;5;124m\"\u001b[39m,\n\u001b[0;32m    869\u001b[0m         )\n\u001b[0;32m    870\u001b[0m     \u001b[38;5;28;01melse\u001b[39;00m:\n\u001b[0;32m    871\u001b[0m         \u001b[38;5;66;03m# Binary mode\u001b[39;00m\n\u001b[0;32m    872\u001b[0m         handle \u001b[38;5;241m=\u001b[39m \u001b[38;5;28mopen\u001b[39m(handle, ioargs\u001b[38;5;241m.\u001b[39mmode)\n",
      "\u001b[1;31mFileNotFoundError\u001b[0m: [Errno 2] No such file or directory: 'training.csv'"
     ]
    }
   ],
   "source": [
    "#load\n",
    "twitter_data = pd.read_csv('training.csv', encoding='ISO-8859-1')"
   ]
  },
  {
   "cell_type": "code",
   "execution_count": null,
   "id": "7d0ca973-09bf-4252-9274-00981f836698",
   "metadata": {},
   "outputs": [],
   "source": []
  }
 ],
 "metadata": {
  "kernelspec": {
   "display_name": "Python 3 (ipykernel)",
   "language": "python",
   "name": "python3"
  },
  "language_info": {
   "codemirror_mode": {
    "name": "ipython",
    "version": 3
   },
   "file_extension": ".py",
   "mimetype": "text/x-python",
   "name": "python",
   "nbconvert_exporter": "python",
   "pygments_lexer": "ipython3",
   "version": "3.11.7"
  }
 },
 "nbformat": 4,
 "nbformat_minor": 5
}
