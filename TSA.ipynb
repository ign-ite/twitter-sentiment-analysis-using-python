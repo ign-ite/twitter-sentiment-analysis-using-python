{
 "cells": [
  {
   "cell_type": "code",
   "execution_count": 1,
   "id": "6371dddd-3e7f-4de7-bd1b-e691982a26eb",
   "metadata": {},
   "outputs": [
    {
     "name": "stdout",
     "output_type": "stream",
     "text": [
      "Dataset URL: https://www.kaggle.com/datasets/kazanova/sentiment140\n",
      "License(s): other\n",
      "Downloading sentiment140.zip to C:\\Users\\kumar\\OneDrive - Indian Institute of Information Technology Design and Manufacturing Kurnool (IIITDM KURNOOL), Andhra Pradesh\\Documents\\GitHub\n",
      "\n"
     ]
    },
    {
     "name": "stderr",
     "output_type": "stream",
     "text": [
      "\n",
      "  0%|          | 0.00/80.9M [00:00<?, ?B/s]\n",
      "  1%|1         | 1.00M/80.9M [00:01<01:46, 786kB/s]\n",
      "  2%|2         | 2.00M/80.9M [00:01<00:54, 1.53MB/s]\n",
      "  4%|3         | 3.00M/80.9M [00:01<00:34, 2.36MB/s]\n",
      "  5%|4         | 4.00M/80.9M [00:01<00:27, 2.99MB/s]\n",
      "  6%|6         | 5.00M/80.9M [00:02<00:22, 3.54MB/s]\n",
      "  7%|7         | 6.00M/80.9M [00:02<00:17, 4.44MB/s]\n",
      "  9%|8         | 7.00M/80.9M [00:02<00:14, 5.31MB/s]\n",
      " 10%|9         | 8.00M/80.9M [00:02<00:13, 5.69MB/s]\n",
      " 11%|#1        | 9.00M/80.9M [00:02<00:12, 6.28MB/s]\n",
      " 12%|#2        | 10.0M/80.9M [00:02<00:10, 6.81MB/s]\n",
      " 14%|#3        | 11.0M/80.9M [00:02<00:10, 7.33MB/s]\n",
      " 15%|#4        | 12.0M/80.9M [00:03<00:09, 7.96MB/s]\n",
      " 17%|#7        | 14.0M/80.9M [00:03<00:07, 8.98MB/s]\n",
      " 19%|#8        | 15.0M/80.9M [00:03<00:07, 9.28MB/s]\n",
      " 20%|#9        | 16.0M/80.9M [00:03<00:07, 9.46MB/s]\n",
      " 22%|##2       | 18.0M/80.9M [00:03<00:06, 10.2MB/s]\n",
      " 25%|##4       | 20.0M/80.9M [00:03<00:06, 10.6MB/s]\n",
      " 27%|##7       | 22.0M/80.9M [00:04<00:06, 10.1MB/s]\n",
      " 28%|##8       | 23.0M/80.9M [00:04<00:05, 10.2MB/s]\n",
      " 30%|##9       | 24.0M/80.9M [00:04<00:05, 10.2MB/s]\n",
      " 31%|###       | 25.0M/80.9M [00:04<00:05, 9.85MB/s]\n",
      " 32%|###2      | 26.0M/80.9M [00:04<00:05, 9.63MB/s]\n",
      " 33%|###3      | 27.0M/80.9M [00:04<00:05, 9.64MB/s]\n",
      " 35%|###4      | 28.0M/80.9M [00:04<00:06, 8.80MB/s]\n",
      " 36%|###5      | 29.0M/80.9M [00:04<00:06, 8.35MB/s]\n",
      " 37%|###7      | 30.0M/80.9M [00:04<00:06, 8.40MB/s]\n",
      " 38%|###8      | 31.0M/80.9M [00:05<00:06, 8.53MB/s]\n",
      " 40%|###9      | 32.0M/80.9M [00:05<00:06, 8.27MB/s]\n",
      " 41%|####      | 33.0M/80.9M [00:05<00:06, 8.19MB/s]\n",
      " 42%|####2     | 34.0M/80.9M [00:05<00:06, 8.18MB/s]\n",
      " 43%|####3     | 35.0M/80.9M [00:05<00:05, 8.12MB/s]\n",
      " 44%|####4     | 36.0M/80.9M [00:05<00:05, 8.02MB/s]\n",
      " 46%|####5     | 37.0M/80.9M [00:05<00:05, 8.17MB/s]\n",
      " 47%|####6     | 38.0M/80.9M [00:06<00:05, 7.92MB/s]\n",
      " 48%|####8     | 39.0M/80.9M [00:06<00:05, 8.16MB/s]\n",
      " 49%|####9     | 40.0M/80.9M [00:06<00:05, 8.17MB/s]\n",
      " 51%|#####     | 41.0M/80.9M [00:06<00:05, 7.99MB/s]\n",
      " 52%|#####1    | 42.0M/80.9M [00:06<00:05, 7.58MB/s]\n",
      " 53%|#####3    | 43.0M/80.9M [00:06<00:05, 7.87MB/s]\n",
      " 54%|#####4    | 44.0M/80.9M [00:06<00:04, 7.92MB/s]\n",
      " 56%|#####5    | 45.0M/80.9M [00:06<00:04, 8.10MB/s]\n",
      " 57%|#####6    | 46.0M/80.9M [00:07<00:04, 8.37MB/s]\n",
      " 58%|#####8    | 47.0M/80.9M [00:07<00:05, 6.35MB/s]\n",
      " 59%|#####9    | 48.0M/80.9M [00:07<00:04, 7.04MB/s]\n",
      " 61%|######    | 49.0M/80.9M [00:07<00:04, 7.46MB/s]\n",
      " 62%|######1   | 50.0M/80.9M [00:07<00:04, 7.80MB/s]\n",
      " 63%|######3   | 51.0M/80.9M [00:07<00:03, 8.03MB/s]\n",
      " 65%|######5   | 53.0M/80.9M [00:07<00:03, 9.18MB/s]\n",
      " 68%|######7   | 55.0M/80.9M [00:08<00:02, 10.0MB/s]\n",
      " 69%|######9   | 56.0M/80.9M [00:08<00:02, 10.1MB/s]\n",
      " 70%|#######   | 57.0M/80.9M [00:08<00:02, 9.84MB/s]\n",
      " 73%|#######2  | 59.0M/80.9M [00:08<00:02, 9.77MB/s]\n",
      " 74%|#######4  | 60.0M/80.9M [00:08<00:02, 9.72MB/s]\n",
      " 75%|#######5  | 61.0M/80.9M [00:08<00:02, 9.35MB/s]\n",
      " 77%|#######6  | 62.0M/80.9M [00:08<00:02, 9.23MB/s]\n",
      " 78%|#######7  | 63.0M/80.9M [00:09<00:02, 9.38MB/s]\n",
      " 79%|#######9  | 64.0M/80.9M [00:09<00:01, 9.27MB/s]\n",
      " 80%|########  | 65.0M/80.9M [00:09<00:01, 9.39MB/s]\n",
      " 82%|########1 | 66.0M/80.9M [00:09<00:01, 9.45MB/s]\n",
      " 83%|########2 | 67.0M/80.9M [00:09<00:01, 9.33MB/s]\n",
      " 84%|########4 | 68.0M/80.9M [00:09<00:01, 9.23MB/s]\n",
      " 85%|########5 | 69.0M/80.9M [00:09<00:01, 9.34MB/s]\n",
      " 87%|########6 | 70.0M/80.9M [00:09<00:01, 9.63MB/s]\n",
      " 88%|########7 | 71.0M/80.9M [00:09<00:01, 9.87MB/s]\n",
      " 89%|########8 | 72.0M/80.9M [00:10<00:00, 9.98MB/s]\n",
      " 90%|######### | 73.0M/80.9M [00:10<00:00, 9.89MB/s]\n",
      " 91%|#########1| 74.0M/80.9M [00:10<00:00, 9.74MB/s]\n",
      " 94%|#########3| 76.0M/80.9M [00:10<00:00, 10.6MB/s]\n",
      " 96%|#########6| 78.0M/80.9M [00:10<00:00, 10.5MB/s]\n",
      " 99%|#########8| 80.0M/80.9M [00:10<00:00, 10.6MB/s]\n",
      "100%|##########| 80.9M/80.9M [00:10<00:00, 7.80MB/s]\n"
     ]
    }
   ],
   "source": [
    "!kaggle datasets download -d kazanova/sentiment140"
   ]
  },
  {
   "cell_type": "code",
   "execution_count": 3,
   "id": "1468d68f-f313-4b80-8cfc-be6ea97f4591",
   "metadata": {},
   "outputs": [
    {
     "name": "stdout",
     "output_type": "stream",
     "text": [
      "Extracted\n"
     ]
    }
   ],
   "source": [
    "#extract\n",
    "\n",
    "from zipfile import ZipFile\n",
    "dataset = 'sentiment140.zip'\n",
    "\n",
    "with ZipFile(dataset, 'r') as zip:\n",
    "    zip.extractall()\n",
    "    print('Extracted')"
   ]
  },
  {
   "cell_type": "markdown",
   "id": "b87a65b9-9d58-407d-8eac-2dac1b990c35",
   "metadata": {},
   "source": [
    "Importing the dependencies"
   ]
  },
  {
   "cell_type": "code",
   "execution_count": 7,
   "id": "f2e6dcf3-b699-4657-bddb-d42c2e722c22",
   "metadata": {},
   "outputs": [],
   "source": [
    "import numpy as np\n",
    "import pandas as pd\n",
    "import re\n",
    "from nltk.corpus import stopwords\n",
    "from nltk.stem.porter import PorterStemmer\n",
    "from sklearn.feature_extraction.text import TfidfVectorizer\n",
    "from sklearn.model_selection import train_test_split\n",
    "from sklearn.linear_model import LogisticRegression\n",
    "from sklearn.metrics import accuracy_score"
   ]
  },
  {
   "cell_type": "code",
   "execution_count": 8,
   "id": "f45d7817-8754-4bfc-8987-aeb70d8bc20a",
   "metadata": {},
   "outputs": [
    {
     "name": "stderr",
     "output_type": "stream",
     "text": [
      "[nltk_data] Downloading package stopwords to\n",
      "[nltk_data]     C:\\Users\\kumar\\AppData\\Roaming\\nltk_data...\n",
      "[nltk_data]   Package stopwords is already up-to-date!\n"
     ]
    },
    {
     "data": {
      "text/plain": [
       "True"
      ]
     },
     "execution_count": 8,
     "metadata": {},
     "output_type": "execute_result"
    }
   ],
   "source": [
    "import nltk\n",
    "nltk.download('stopwords')"
   ]
  },
  {
   "cell_type": "code",
   "execution_count": 11,
   "id": "2faf4d3a-362b-426e-bb2d-6ab1b7795665",
   "metadata": {},
   "outputs": [],
   "source": [
    "#load\n",
    "twitter_data = pd.read_csv('csv/training.csv', encoding='ISO-8859-1')"
   ]
  },
  {
   "cell_type": "code",
   "execution_count": 12,
   "id": "7d0ca973-09bf-4252-9274-00981f836698",
   "metadata": {},
   "outputs": [
    {
     "data": {
      "text/plain": [
       "(1599999, 6)"
      ]
     },
     "execution_count": 12,
     "metadata": {},
     "output_type": "execute_result"
    }
   ],
   "source": [
    "twitter_data.shape"
   ]
  },
  {
   "cell_type": "code",
   "execution_count": 15,
   "id": "2380b9ba-78d1-4db6-9437-e510c452f41f",
   "metadata": {},
   "outputs": [],
   "source": [
    "#naming the columns and reading the dataset again\n",
    "\n",
    "col_names = ['target', 'id', 'date', 'flag', 'user', 'text']\n",
    "twitter_data = pd.read_csv('csv/training.csv', names=col_names, encoding='ISO-8859-1')"
   ]
  },
  {
   "cell_type": "code",
   "execution_count": 17,
   "id": "6db925d4-28b9-48ee-81f0-d5b15abcd27b",
   "metadata": {},
   "outputs": [
    {
     "data": {
      "text/html": [
       "<div>\n",
       "<style scoped>\n",
       "    .dataframe tbody tr th:only-of-type {\n",
       "        vertical-align: middle;\n",
       "    }\n",
       "\n",
       "    .dataframe tbody tr th {\n",
       "        vertical-align: top;\n",
       "    }\n",
       "\n",
       "    .dataframe thead th {\n",
       "        text-align: right;\n",
       "    }\n",
       "</style>\n",
       "<table border=\"1\" class=\"dataframe\">\n",
       "  <thead>\n",
       "    <tr style=\"text-align: right;\">\n",
       "      <th></th>\n",
       "      <th>target</th>\n",
       "      <th>id</th>\n",
       "      <th>date</th>\n",
       "      <th>flag</th>\n",
       "      <th>user</th>\n",
       "      <th>text</th>\n",
       "    </tr>\n",
       "  </thead>\n",
       "  <tbody>\n",
       "    <tr>\n",
       "      <th>0</th>\n",
       "      <td>0</td>\n",
       "      <td>1467810369</td>\n",
       "      <td>Mon Apr 06 22:19:45 PDT 2009</td>\n",
       "      <td>NO_QUERY</td>\n",
       "      <td>_TheSpecialOne_</td>\n",
       "      <td>@switchfoot http://twitpic.com/2y1zl - Awww, t...</td>\n",
       "    </tr>\n",
       "    <tr>\n",
       "      <th>1</th>\n",
       "      <td>0</td>\n",
       "      <td>1467810672</td>\n",
       "      <td>Mon Apr 06 22:19:49 PDT 2009</td>\n",
       "      <td>NO_QUERY</td>\n",
       "      <td>scotthamilton</td>\n",
       "      <td>is upset that he can't update his Facebook by ...</td>\n",
       "    </tr>\n",
       "    <tr>\n",
       "      <th>2</th>\n",
       "      <td>0</td>\n",
       "      <td>1467810917</td>\n",
       "      <td>Mon Apr 06 22:19:53 PDT 2009</td>\n",
       "      <td>NO_QUERY</td>\n",
       "      <td>mattycus</td>\n",
       "      <td>@Kenichan I dived many times for the ball. Man...</td>\n",
       "    </tr>\n",
       "    <tr>\n",
       "      <th>3</th>\n",
       "      <td>0</td>\n",
       "      <td>1467811184</td>\n",
       "      <td>Mon Apr 06 22:19:57 PDT 2009</td>\n",
       "      <td>NO_QUERY</td>\n",
       "      <td>ElleCTF</td>\n",
       "      <td>my whole body feels itchy and like its on fire</td>\n",
       "    </tr>\n",
       "    <tr>\n",
       "      <th>4</th>\n",
       "      <td>0</td>\n",
       "      <td>1467811193</td>\n",
       "      <td>Mon Apr 06 22:19:57 PDT 2009</td>\n",
       "      <td>NO_QUERY</td>\n",
       "      <td>Karoli</td>\n",
       "      <td>@nationwideclass no, it's not behaving at all....</td>\n",
       "    </tr>\n",
       "  </tbody>\n",
       "</table>\n",
       "</div>"
      ],
      "text/plain": [
       "   target          id                          date      flag  \\\n",
       "0       0  1467810369  Mon Apr 06 22:19:45 PDT 2009  NO_QUERY   \n",
       "1       0  1467810672  Mon Apr 06 22:19:49 PDT 2009  NO_QUERY   \n",
       "2       0  1467810917  Mon Apr 06 22:19:53 PDT 2009  NO_QUERY   \n",
       "3       0  1467811184  Mon Apr 06 22:19:57 PDT 2009  NO_QUERY   \n",
       "4       0  1467811193  Mon Apr 06 22:19:57 PDT 2009  NO_QUERY   \n",
       "\n",
       "              user                                               text  \n",
       "0  _TheSpecialOne_  @switchfoot http://twitpic.com/2y1zl - Awww, t...  \n",
       "1    scotthamilton  is upset that he can't update his Facebook by ...  \n",
       "2         mattycus  @Kenichan I dived many times for the ball. Man...  \n",
       "3          ElleCTF    my whole body feels itchy and like its on fire   \n",
       "4           Karoli  @nationwideclass no, it's not behaving at all....  "
      ]
     },
     "execution_count": 17,
     "metadata": {},
     "output_type": "execute_result"
    }
   ],
   "source": [
    "twitter_data.head()"
   ]
  },
  {
   "cell_type": "code",
   "execution_count": 19,
   "id": "d36347e3-b264-4378-8b06-3d1f94e27119",
   "metadata": {},
   "outputs": [
    {
     "data": {
      "text/plain": [
       "target    0\n",
       "id        0\n",
       "date      0\n",
       "flag      0\n",
       "user      0\n",
       "text      0\n",
       "dtype: int64"
      ]
     },
     "execution_count": 19,
     "metadata": {},
     "output_type": "execute_result"
    }
   ],
   "source": [
    "#counting the number of missing values/text in the dataset\n",
    "\n",
    "twitter_data.isnull().sum()"
   ]
  },
  {
   "cell_type": "code",
   "execution_count": 21,
   "id": "f0ac5d60-e281-4e35-b1e4-a9ea24d21b87",
   "metadata": {},
   "outputs": [
    {
     "data": {
      "text/plain": [
       "target\n",
       "0    800000\n",
       "4    800000\n",
       "Name: count, dtype: int64"
      ]
     },
     "execution_count": 21,
     "metadata": {},
     "output_type": "execute_result"
    }
   ],
   "source": [
    "#checking the distribution of target column\n",
    "twitter_data['target'].value_counts()"
   ]
  },
  {
   "cell_type": "code",
   "execution_count": 31,
   "id": "fe61a9b7-e996-489b-9ed9-dccb823f4623",
   "metadata": {},
   "outputs": [],
   "source": [
    "twitter_data.replace({'target':{4:1}}, inplace=True)"
   ]
  },
  {
   "cell_type": "code",
   "execution_count": 35,
   "id": "a9877775-83e7-4959-9929-d87b62033646",
   "metadata": {},
   "outputs": [
    {
     "data": {
      "text/plain": [
       "target\n",
       "0    800000\n",
       "1    800000\n",
       "Name: count, dtype: int64"
      ]
     },
     "execution_count": 35,
     "metadata": {},
     "output_type": "execute_result"
    }
   ],
   "source": [
    "twitter_data['target'].value_counts()"
   ]
  },
  {
   "cell_type": "markdown",
   "id": "1f5dc723-f018-46a4-a71c-a36fbf56d569",
   "metadata": {},
   "source": [
    "0 --> Negative Tweet\n",
    "\n",
    "1 --> Positive Tweet"
   ]
  },
  {
   "cell_type": "markdown",
   "id": "fb6acdcf-8da1-471c-8953-5679f0d7c611",
   "metadata": {},
   "source": [
    "Stemming:\n",
    "    Stemming is the process of reducing a word to its Root word"
   ]
  },
  {
   "cell_type": "code",
   "execution_count": 37,
   "id": "fe052814-8e40-4a5f-b53d-d4ff5e8a3cb9",
   "metadata": {},
   "outputs": [],
   "source": [
    "port_stem = PorterStemmer()"
   ]
  },
  {
   "cell_type": "code",
   "execution_count": 41,
   "id": "84a17db9-82b2-4489-b1ed-5313aa9284c6",
   "metadata": {},
   "outputs": [],
   "source": [
    "def stemming(content):\n",
    "    stemmed_content = re.sub('[^a-zA-Z]', ' ', content)\n",
    "    stemmed_content = stemmed_content.lower()\n",
    "    stemmed_content = stemmed_content.split()\n",
    "    stemmed_content = [port_stem.stem(word) for word in stemmed_content if not word in stopwords.words('english')]\n",
    "    stemmed_content = ' '.join(stemmed_content)\n",
    "    \n",
    "    return stemmed_content"
   ]
  },
  {
   "cell_type": "code",
   "execution_count": null,
   "id": "9b92275b-9d70-42dd-8b18-dc1f0bd272a3",
   "metadata": {},
   "outputs": [],
   "source": [
    "twitter_data['stemmed_content'] = twitter_data['text'].apply(stemming) #50 mins to complete execution :sob:"
   ]
  },
  {
   "cell_type": "code",
   "execution_count": null,
   "id": "69eea31a-d4e8-4646-b6e3-11e832f28017",
   "metadata": {},
   "outputs": [],
   "source": [
    "twitter_data['stemmed_content']"
   ]
  }
 ],
 "metadata": {
  "kernelspec": {
   "display_name": "Python 3 (ipykernel)",
   "language": "python",
   "name": "python3"
  },
  "language_info": {
   "codemirror_mode": {
    "name": "ipython",
    "version": 3
   },
   "file_extension": ".py",
   "mimetype": "text/x-python",
   "name": "python",
   "nbconvert_exporter": "python",
   "pygments_lexer": "ipython3",
   "version": "3.11.7"
  }
 },
 "nbformat": 4,
 "nbformat_minor": 5
}
